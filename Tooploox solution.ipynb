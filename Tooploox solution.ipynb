{
 "cells": [
  {
   "cell_type": "markdown",
   "metadata": {},
   "source": [
    "# Tooploox Data Science exercise"
   ]
  },
  {
   "cell_type": "code",
   "execution_count": 40,
   "metadata": {
    "collapsed": false
   },
   "outputs": [],
   "source": [
    "import pandas as pd\n",
    "\n",
    "dataset = pd.read_csv('./data.csv', header=None)"
   ]
  },
  {
   "cell_type": "markdown",
   "metadata": {},
   "source": [
    "### Analysing basic statistics for v(24), v(72), v(168)"
   ]
  },
  {
   "cell_type": "code",
   "execution_count": 41,
   "metadata": {
    "collapsed": false
   },
   "outputs": [
    {
     "name": "stdout",
     "output_type": "stream",
     "text": [
      "For 24-th hour: mean = 376765.517467, std = 923646.739985, median = 194357\n",
      "For 72-th hour: mean = 613303.341703, std = 1653969.423316, median = 237417\n",
      "For 168-th hour: mean = 743209.837336, std = 2007963.831213, median = 252287\n"
     ]
    }
   ],
   "source": [
    "import matplotlib.pyplot as plt\n",
    "import numpy as np\n",
    "%matplotlib inline\n",
    "\n",
    "for i in [24,72,168]:\n",
    "    print \"For %d-th hour: mean = %f, std = %f, median = %d\" % (i, dataset[i].mean(), dataset[i].std(), dataset[i].median())"
   ]
  },
  {
   "cell_type": "markdown",
   "metadata": {},
   "source": [
    "### Plotting the distribution of v(168)"
   ]
  },
  {
   "cell_type": "code",
   "execution_count": 42,
   "metadata": {
    "collapsed": false
   },
   "outputs": [
    {
     "data": {
      "text/plain": [
       "<matplotlib.axes.AxesSubplot at 0x7fc46d0f0e10>"
      ]
     },
     "execution_count": 42,
     "metadata": {},
     "output_type": "execute_result"
    },
    {
     "data": {
      "image/png": "[encoded data removed]",
      "text/plain": [
       "<matplotlib.figure.Figure at 0x7fc46d164c90>"
      ]
     },
     "metadata": {},
     "output_type": "display_data"
    }
   ],
   "source": [
    "dataset[168].hist(bins = 40)"
   ]
  },
  {
   "cell_type": "markdown",
   "metadata": {},
   "source": [
    "### Plotting the log-transformed distribution of v(168)"
   ]
  },
  {
   "cell_type": "code",
   "execution_count": 43,
   "metadata": {
    "collapsed": false
   },
   "outputs": [
    {
     "data": {
      "text/plain": [
       "<matplotlib.axes.AxesSubplot at 0x7fc46cf1d150>"
      ]
     },
     "execution_count": 43,
     "metadata": {},
     "output_type": "execute_result"
    },
    {
     "data": {
      "image/png": "[encoded data removed]",
      "text/plain": [
       "<matplotlib.figure.Figure at 0x7fc46cf270d0>"
      ]
     },
     "metadata": {},
     "output_type": "display_data"
    }
   ],
   "source": [
    "log_168 = dataset[168].apply(lambda x: np.log(x))\n",
    "log_168.hist(bins = 40)"
   ]
  },
  {
   "cell_type": "markdown",
   "metadata": {},
   "source": [
    "### Deleting outliers"
   ]
  },
  {
   "cell_type": "code",
   "execution_count": 44,
   "metadata": {
    "collapsed": false
   },
   "outputs": [
    {
     "name": "stdout",
     "output_type": "stream",
     "text": [
      "(916, 169)\n",
      "(901, 169)\n"
     ]
    }
   ],
   "source": [
    "std_168 = log_168.std()\n",
    "mean_168 = log_168.mean()\n",
    "\n",
    "selector = np.abs(log_168 - mean_168) < 3*std_168\n",
    "\n",
    "print dataset.shape\n",
    "dataset = dataset.loc[selector]\n",
    "print dataset.shape"
   ]
  },
  {
   "cell_type": "markdown",
   "metadata": {},
   "source": [
    "### Computing correlation coefficients between v(n) for n = 1, 2, ..., 24 and v(168)."
   ]
  },
  {
   "cell_type": "code",
   "execution_count": 45,
   "metadata": {
    "collapsed": false
   },
   "outputs": [
    {
     "data": {
      "text/plain": [
       "<matplotlib.text.Text at 0x7fc46cceb2d0>"
      ]
     },
     "execution_count": 45,
     "metadata": {},
     "output_type": "execute_result"
    },
    {
     "data": {
      "image/png": "[encoded data removed]",
      "text/plain": [
       "<matplotlib.figure.Figure at 0x7fc46d230710>"
      ]
     },
     "metadata": {},
     "output_type": "display_data"
    }
   ],
   "source": [
    "range_1_24 = range(1,25,1)\n",
    "\n",
    "def log_transform(x):\n",
    "    x[x==0] = 1\n",
    "    return np.log(x)\n",
    "\n",
    "correlations = dataset[range_1_24].apply(log_transform).apply(lambda x: log_168.corr(x))\n",
    "correlations\n",
    "\n",
    "plt.plot(correlations, label='Correlation')\n",
    "plt.xlabel('n')\n",
    "plt.ylabel('Correlation value')\n",
    "plt.title('Dependency between n and correlation')\n"
   ]
  },
  {
   "cell_type": "markdown",
   "metadata": {},
   "source": [
    "### Train - test split on log-transformed data"
   ]
  },
  {
   "cell_type": "code",
   "execution_count": 39,
   "metadata": {
    "collapsed": false
   },
   "outputs": [
    {
     "name": "stdout",
     "output_type": "stream",
     "text": [
      "(810, 169) (91, 169)\n"
     ]
    }
   ],
   "source": [
    "from sklearn.cross_validation import train_test_split\n",
    "\n",
    "range_for_log_transform = range(1, dataset.shape[1])\n",
    "dataset[range_for_log_transform] = dataset[range_for_log_transform].apply(log_transform)\n",
    "\n",
    "train, test = train_test_split(dataset, test_size = 0.1)\n",
    "\n",
    "print train.shape, test.shape"
   ]
  }
 ],
 "metadata": {
  "kernelspec": {
   "display_name": "Python 2",
   "language": "python",
   "name": "python2"
  },
  "language_info": {
   "codemirror_mode": {
    "name": "ipython",
    "version": 2
   },
   "file_extension": ".py",
   "mimetype": "text/x-python",
   "name": "python",
   "nbconvert_exporter": "python",
   "pygments_lexer": "ipython2",
   "version": "2.7.6"
  }
 },
 "nbformat": 4,
 "nbformat_minor": 1
}
