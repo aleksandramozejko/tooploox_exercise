{
 "cells": [
  {
   "cell_type": "markdown",
   "metadata": {},
   "source": [
    "# Tooploox Data Science exercise"
   ]
  },
  {
   "cell_type": "markdown",
   "metadata": {},
   "source": [
    "## STEP 1"
   ]
  },
  {
   "cell_type": "code",
   "execution_count": 1,
   "metadata": {
    "collapsed": false
   },
   "outputs": [
    {
     "data": {
      "text/html": [
       "<div style=\"max-height:1000px;max-width:1500px;overflow:auto;\">\n",
       "<table border=\"1\" class=\"dataframe\">\n",
       "  <thead>\n",
       "    <tr style=\"text-align: right;\">\n",
       "      <th></th>\n",
       "      <th>1</th>\n",
       "      <th>2</th>\n",
       "      <th>3</th>\n",
       "      <th>4</th>\n",
       "      <th>5</th>\n",
       "      <th>6</th>\n",
       "      <th>7</th>\n",
       "      <th>8</th>\n",
       "      <th>9</th>\n",
       "      <th>10</th>\n",
       "      <th>11</th>\n",
       "      <th>12</th>\n",
       "      <th>13</th>\n",
       "      <th>14</th>\n",
       "      <th>15</th>\n",
       "      <th>16</th>\n",
       "      <th>17</th>\n",
       "      <th>18</th>\n",
       "      <th>19</th>\n",
       "      <th>20</th>\n",
       "      <th></th>\n",
       "    </tr>\n",
       "  </thead>\n",
       "  <tbody>\n",
       "    <tr>\n",
       "      <th>count</th>\n",
       "      <td>    916.000000</td>\n",
       "      <td>    916.000000</td>\n",
       "      <td>     916.000000</td>\n",
       "      <td>     916.000000</td>\n",
       "      <td>     916.000000</td>\n",
       "      <td>     916.000000</td>\n",
       "      <td>     916.000000</td>\n",
       "      <td>     916.000000</td>\n",
       "      <td>     916.000000</td>\n",
       "      <td>     916.000000</td>\n",
       "      <td>     916.000000</td>\n",
       "      <td>     916.000000</td>\n",
       "      <td>      916.000000</td>\n",
       "      <td>      916.000000</td>\n",
       "      <td>      916.000000</td>\n",
       "      <td>      916.000000</td>\n",
       "      <td>      916.000000</td>\n",
       "      <td>      916.000000</td>\n",
       "      <td>      916.000000</td>\n",
       "      <td>      916.000000</td>\n",
       "      <td>...</td>\n",
       "    </tr>\n",
       "    <tr>\n",
       "      <th>mean</th>\n",
       "      <td>  39889.541485</td>\n",
       "      <td>  69421.946507</td>\n",
       "      <td>   92531.329694</td>\n",
       "      <td>  112778.213974</td>\n",
       "      <td>  131477.222707</td>\n",
       "      <td>  148739.728166</td>\n",
       "      <td>  164791.632096</td>\n",
       "      <td>  180186.234716</td>\n",
       "      <td>  195111.381004</td>\n",
       "      <td>  209449.641921</td>\n",
       "      <td>  223060.731441</td>\n",
       "      <td>  236203.442140</td>\n",
       "      <td>   249019.028384</td>\n",
       "      <td>   261379.820961</td>\n",
       "      <td>   273280.531659</td>\n",
       "      <td>   284814.076419</td>\n",
       "      <td>   296262.682314</td>\n",
       "      <td>   307692.235808</td>\n",
       "      <td>   319178.485808</td>\n",
       "      <td>   330661.925764</td>\n",
       "      <td>...</td>\n",
       "    </tr>\n",
       "    <tr>\n",
       "      <th>std</th>\n",
       "      <td>  24816.900947</td>\n",
       "      <td>  58148.785461</td>\n",
       "      <td>   98927.747690</td>\n",
       "      <td>  144261.546019</td>\n",
       "      <td>  192452.433583</td>\n",
       "      <td>  239041.331493</td>\n",
       "      <td>  283296.193637</td>\n",
       "      <td>  325962.515280</td>\n",
       "      <td>  366300.891704</td>\n",
       "      <td>  405638.935787</td>\n",
       "      <td>  446023.593710</td>\n",
       "      <td>  488655.944103</td>\n",
       "      <td>   534911.870951</td>\n",
       "      <td>   577170.060176</td>\n",
       "      <td>   614871.897959</td>\n",
       "      <td>   649642.649033</td>\n",
       "      <td>   683258.317793</td>\n",
       "      <td>   715984.542014</td>\n",
       "      <td>   748402.519637</td>\n",
       "      <td>   780399.421185</td>\n",
       "      <td>...</td>\n",
       "    </tr>\n",
       "    <tr>\n",
       "      <th>min</th>\n",
       "      <td>      0.000000</td>\n",
       "      <td>   3886.000000</td>\n",
       "      <td>    8608.000000</td>\n",
       "      <td>    9396.000000</td>\n",
       "      <td>    9989.000000</td>\n",
       "      <td>   10546.000000</td>\n",
       "      <td>   11225.000000</td>\n",
       "      <td>   12181.000000</td>\n",
       "      <td>   13379.000000</td>\n",
       "      <td>   14585.000000</td>\n",
       "      <td>   15757.000000</td>\n",
       "      <td>   16648.000000</td>\n",
       "      <td>    17401.000000</td>\n",
       "      <td>    18140.000000</td>\n",
       "      <td>    18884.000000</td>\n",
       "      <td>    19298.000000</td>\n",
       "      <td>    19403.000000</td>\n",
       "      <td>    19403.000000</td>\n",
       "      <td>    19950.000000</td>\n",
       "      <td>    20141.000000</td>\n",
       "      <td>...</td>\n",
       "    </tr>\n",
       "    <tr>\n",
       "      <th>25%</th>\n",
       "      <td>  23913.250000</td>\n",
       "      <td>  38524.250000</td>\n",
       "      <td>   47825.500000</td>\n",
       "      <td>   55491.000000</td>\n",
       "      <td>   61926.750000</td>\n",
       "      <td>   68438.250000</td>\n",
       "      <td>   74120.000000</td>\n",
       "      <td>   79430.250000</td>\n",
       "      <td>   84205.000000</td>\n",
       "      <td>   88832.500000</td>\n",
       "      <td>   92617.000000</td>\n",
       "      <td>   96329.000000</td>\n",
       "      <td>   100206.500000</td>\n",
       "      <td>   103183.750000</td>\n",
       "      <td>   105447.750000</td>\n",
       "      <td>   107927.000000</td>\n",
       "      <td>   110656.500000</td>\n",
       "      <td>   112572.500000</td>\n",
       "      <td>   115571.500000</td>\n",
       "      <td>   117754.000000</td>\n",
       "      <td>...</td>\n",
       "    </tr>\n",
       "    <tr>\n",
       "      <th>50%</th>\n",
       "      <td>  34947.500000</td>\n",
       "      <td>  56115.000000</td>\n",
       "      <td>   70263.000000</td>\n",
       "      <td>   81200.500000</td>\n",
       "      <td>   91107.500000</td>\n",
       "      <td>   99671.000000</td>\n",
       "      <td>  108780.500000</td>\n",
       "      <td>  116114.500000</td>\n",
       "      <td>  124802.000000</td>\n",
       "      <td>  131867.000000</td>\n",
       "      <td>  138456.500000</td>\n",
       "      <td>  144117.000000</td>\n",
       "      <td>   150766.000000</td>\n",
       "      <td>   156189.500000</td>\n",
       "      <td>   161866.500000</td>\n",
       "      <td>   166839.000000</td>\n",
       "      <td>   171180.000000</td>\n",
       "      <td>   174576.500000</td>\n",
       "      <td>   177067.500000</td>\n",
       "      <td>   181132.000000</td>\n",
       "      <td>...</td>\n",
       "    </tr>\n",
       "    <tr>\n",
       "      <th>75%</th>\n",
       "      <td>  50530.500000</td>\n",
       "      <td>  84617.750000</td>\n",
       "      <td>  108896.750000</td>\n",
       "      <td>  130094.750000</td>\n",
       "      <td>  147509.750000</td>\n",
       "      <td>  162161.000000</td>\n",
       "      <td>  174918.750000</td>\n",
       "      <td>  187387.250000</td>\n",
       "      <td>  199571.500000</td>\n",
       "      <td>  210895.500000</td>\n",
       "      <td>  223501.750000</td>\n",
       "      <td>  233610.500000</td>\n",
       "      <td>   240687.000000</td>\n",
       "      <td>   251383.500000</td>\n",
       "      <td>   261807.750000</td>\n",
       "      <td>   271356.500000</td>\n",
       "      <td>   280070.000000</td>\n",
       "      <td>   287143.000000</td>\n",
       "      <td>   295008.000000</td>\n",
       "      <td>   304462.250000</td>\n",
       "      <td>...</td>\n",
       "    </tr>\n",
       "    <tr>\n",
       "      <th>max</th>\n",
       "      <td> 189528.000000</td>\n",
       "      <td> 973903.000000</td>\n",
       "      <td> 1737730.000000</td>\n",
       "      <td> 2518686.000000</td>\n",
       "      <td> 3306221.000000</td>\n",
       "      <td> 4023023.000000</td>\n",
       "      <td> 4819420.000000</td>\n",
       "      <td> 5799610.000000</td>\n",
       "      <td> 6752819.000000</td>\n",
       "      <td> 7699066.000000</td>\n",
       "      <td> 8734416.000000</td>\n",
       "      <td> 9825597.000000</td>\n",
       "      <td> 11022241.000000</td>\n",
       "      <td> 11926335.000000</td>\n",
       "      <td> 12542285.000000</td>\n",
       "      <td> 12963056.000000</td>\n",
       "      <td> 13281662.000000</td>\n",
       "      <td> 13505291.000000</td>\n",
       "      <td> 13674123.000000</td>\n",
       "      <td> 13887291.000000</td>\n",
       "      <td>...</td>\n",
       "    </tr>\n",
       "  </tbody>\n",
       "</table>\n",
       "<p>8 rows × 168 columns</p>\n",
       "</div>"
      ],
      "text/plain": [
       "                  1              2               3               4   \\\n",
       "count     916.000000     916.000000      916.000000      916.000000   \n",
       "mean    39889.541485   69421.946507    92531.329694   112778.213974   \n",
       "std     24816.900947   58148.785461    98927.747690   144261.546019   \n",
       "min         0.000000    3886.000000     8608.000000     9396.000000   \n",
       "25%     23913.250000   38524.250000    47825.500000    55491.000000   \n",
       "50%     34947.500000   56115.000000    70263.000000    81200.500000   \n",
       "75%     50530.500000   84617.750000   108896.750000   130094.750000   \n",
       "max    189528.000000  973903.000000  1737730.000000  2518686.000000   \n",
       "\n",
       "                   5               6               7               8   \\\n",
       "count      916.000000      916.000000      916.000000      916.000000   \n",
       "mean    131477.222707   148739.728166   164791.632096   180186.234716   \n",
       "std     192452.433583   239041.331493   283296.193637   325962.515280   \n",
       "min       9989.000000    10546.000000    11225.000000    12181.000000   \n",
       "25%      61926.750000    68438.250000    74120.000000    79430.250000   \n",
       "50%      91107.500000    99671.000000   108780.500000   116114.500000   \n",
       "75%     147509.750000   162161.000000   174918.750000   187387.250000   \n",
       "max    3306221.000000  4023023.000000  4819420.000000  5799610.000000   \n",
       "\n",
       "                   9               10              11              12  \\\n",
       "count      916.000000      916.000000      916.000000      916.000000   \n",
       "mean    195111.381004   209449.641921   223060.731441   236203.442140   \n",
       "std     366300.891704   405638.935787   446023.593710   488655.944103   \n",
       "min      13379.000000    14585.000000    15757.000000    16648.000000   \n",
       "25%      84205.000000    88832.500000    92617.000000    96329.000000   \n",
       "50%     124802.000000   131867.000000   138456.500000   144117.000000   \n",
       "75%     199571.500000   210895.500000   223501.750000   233610.500000   \n",
       "max    6752819.000000  7699066.000000  8734416.000000  9825597.000000   \n",
       "\n",
       "                    13               14               15               16  \\\n",
       "count       916.000000       916.000000       916.000000       916.000000   \n",
       "mean     249019.028384    261379.820961    273280.531659    284814.076419   \n",
       "std      534911.870951    577170.060176    614871.897959    649642.649033   \n",
       "min       17401.000000     18140.000000     18884.000000     19298.000000   \n",
       "25%      100206.500000    103183.750000    105447.750000    107927.000000   \n",
       "50%      150766.000000    156189.500000    161866.500000    166839.000000   \n",
       "75%      240687.000000    251383.500000    261807.750000    271356.500000   \n",
       "max    11022241.000000  11926335.000000  12542285.000000  12963056.000000   \n",
       "\n",
       "                    17               18               19               20      \n",
       "count       916.000000       916.000000       916.000000       916.000000 ...  \n",
       "mean     296262.682314    307692.235808    319178.485808    330661.925764 ...  \n",
       "std      683258.317793    715984.542014    748402.519637    780399.421185 ...  \n",
       "min       19403.000000     19403.000000     19950.000000     20141.000000 ...  \n",
       "25%      110656.500000    112572.500000    115571.500000    117754.000000 ...  \n",
       "50%      171180.000000    174576.500000    177067.500000    181132.000000 ...  \n",
       "75%      280070.000000    287143.000000    295008.000000    304462.250000 ...  \n",
       "max    13281662.000000  13505291.000000  13674123.000000  13887291.000000 ...  \n",
       "\n",
       "[8 rows x 168 columns]"
      ]
     },
     "execution_count": 1,
     "metadata": {},
     "output_type": "execute_result"
    }
   ],
   "source": [
    "import pandas as pd\n",
    "\n",
    "dataset = pd.read_csv('./data.csv', header=None)\n",
    "\n",
    "dataset.describe()"
   ]
  },
  {
   "cell_type": "markdown",
   "metadata": {},
   "source": [
    "### Analysing basic statistics for v(24), v(72), v(168)"
   ]
  },
  {
   "cell_type": "code",
   "execution_count": 2,
   "metadata": {
    "collapsed": false
   },
   "outputs": [
    {
     "name": "stdout",
     "output_type": "stream",
     "text": [
      "For 24-th hour: mean = 376765.517467, std = 923646.739985, median = 194357\n",
      "For 72-th hour: mean = 613303.341703, std = 1653969.423316, median = 237417\n",
      "For 168-th hour: mean = 743209.837336, std = 2007963.831213, median = 252287\n"
     ]
    }
   ],
   "source": [
    "import matplotlib.pyplot as plt\n",
    "import numpy as np\n",
    "%matplotlib inline\n",
    "\n",
    "for i in [24,72,168]:\n",
    "    print \"For %d-th hour: mean = %f, std = %f, median = %d\" % (i, dataset[i].mean(), dataset[i].std(), dataset[i].median())"
   ]
  },
  {
   "cell_type": "markdown",
   "metadata": {},
   "source": [
    "## STEP 2"
   ]
  },
  {
   "cell_type": "markdown",
   "metadata": {},
   "source": [
    "### Plotting the distribution of v(168)"
   ]
  },
  {
   "cell_type": "code",
   "execution_count": 3,
   "metadata": {
    "collapsed": false
   },
   "outputs": [
    {
     "data": {
      "text/plain": [
       "<matplotlib.axes.AxesSubplot at 0x7f2a3cfe03d0>"
      ]
     },
     "execution_count": 3,
     "metadata": {},
     "output_type": "execute_result"
    },
    {
     "data": {
      "image/png": "[encoded data removed]",
      "text/plain": [
       "<matplotlib.figure.Figure at 0x7f2a4161d650>"
      ]
     },
     "metadata": {},
     "output_type": "display_data"
    }
   ],
   "source": [
    "dataset[168].hist(bins = 40)"
   ]
  },
  {
   "cell_type": "markdown",
   "metadata": {},
   "source": [
    "## STEP 3"
   ]
  },
  {
   "cell_type": "markdown",
   "metadata": {},
   "source": [
    "### Plotting the log-transformed distribution of v(168)"
   ]
  },
  {
   "cell_type": "code",
   "execution_count": 4,
   "metadata": {
    "collapsed": false
   },
   "outputs": [
    {
     "data": {
      "text/plain": [
       "<matplotlib.axes.AxesSubplot at 0x7f2a3c9c7210>"
      ]
     },
     "execution_count": 4,
     "metadata": {},
     "output_type": "execute_result"
    },
    {
     "data": {
      "image/png": "[encoded data removed]",
      "text/plain": [
       "<matplotlib.figure.Figure at 0x7f2a3c97d850>"
      ]
     },
     "metadata": {},
     "output_type": "display_data"
    }
   ],
   "source": [
    "log_168 = dataset[168].apply(lambda x: np.log(x))\n",
    "log_168.hist(bins = 40)"
   ]
  },
  {
   "cell_type": "markdown",
   "metadata": {},
   "source": [
    "We can see that after applying a log transformation the histogram distribiutions are bell shaped what suggests that this data is a log-normal distributed."
   ]
  },
  {
   "cell_type": "markdown",
   "metadata": {},
   "source": [
    "## STEP 4"
   ]
  },
  {
   "cell_type": "markdown",
   "metadata": {},
   "source": [
    "### Deleting outliers"
   ]
  },
  {
   "cell_type": "code",
   "execution_count": 5,
   "metadata": {
    "collapsed": false
   },
   "outputs": [
    {
     "name": "stdout",
     "output_type": "stream",
     "text": [
      "(916, 169)\n",
      "(901, 169)\n"
     ]
    }
   ],
   "source": [
    "std_168 = log_168.std()\n",
    "mean_168 = log_168.mean()\n",
    "\n",
    "selector = np.abs(log_168 - mean_168) < 3 * std_168\n",
    "\n",
    "print dataset.shape\n",
    "dataset = dataset.loc[selector]\n",
    "print dataset.shape"
   ]
  },
  {
   "cell_type": "markdown",
   "metadata": {},
   "source": [
    "## STEP 5"
   ]
  },
  {
   "cell_type": "markdown",
   "metadata": {},
   "source": [
    "### Computing correlation coefficients between v(n) for n = 1, 2, ..., 24 and v(168)."
   ]
  },
  {
   "cell_type": "code",
   "execution_count": 6,
   "metadata": {
    "collapsed": false
   },
   "outputs": [
    {
     "data": {
      "text/plain": [
       "<matplotlib.text.Text at 0x7f2a3c707c90>"
      ]
     },
     "execution_count": 6,
     "metadata": {},
     "output_type": "execute_result"
    },
    {
     "data": {
      "image/png": "[encoded data removed]",
      "text/plain": [
       "<matplotlib.figure.Figure at 0x7f2a3c717050>"
      ]
     },
     "metadata": {},
     "output_type": "display_data"
    }
   ],
   "source": [
    "range_1_24 = range(1,25,1)\n",
    "\n",
    "correlations = dataset[range_1_24].apply(lambda x: np.log(x+1)).apply(lambda x: log_168.corr(x))\n",
    "\n",
    "plt.plot(correlations, label='Correlation')\n",
    "plt.xlabel('n')\n",
    "plt.ylabel('Correlation value')\n",
    "plt.title('Dependency between n and correlation')\n"
   ]
  },
  {
   "cell_type": "markdown",
   "metadata": {},
   "source": [
    "## STEP 6"
   ]
  },
  {
   "cell_type": "markdown",
   "metadata": {},
   "source": [
    "### Train - test split on log-transformed data"
   ]
  },
  {
   "cell_type": "code",
   "execution_count": 7,
   "metadata": {
    "collapsed": false
   },
   "outputs": [],
   "source": [
    "range_for_log_transform = range(1, dataset.shape[1])\n",
    "dataset[range_for_log_transform] = dataset[range_for_log_transform].apply(lambda x: np.log(x+1))\n",
    "\n",
    "train_test_permutation = np.random.permutation(dataset.shape[0])\n",
    "split_index = int(0.1 * dataset.shape[0])\n",
    "\n",
    "test_indices = train_test_permutation[:split_index]\n",
    "train_indices = train_test_permutation[split_index:]\n",
    "\n",
    "test, train = dataset.iloc[test_indices], dataset.iloc[train_indices]"
   ]
  },
  {
   "cell_type": "markdown",
   "metadata": {},
   "source": [
    "## STEP 7"
   ]
  },
  {
   "cell_type": "markdown",
   "metadata": {},
   "source": [
    "### Training linear models based on only one row"
   ]
  },
  {
   "cell_type": "code",
   "execution_count": 8,
   "metadata": {
    "collapsed": false
   },
   "outputs": [],
   "source": [
    "from sklearn.linear_model import LinearRegression\n",
    "\n",
    "list_of_models = [LinearRegression() for x in xrange(24)]\n",
    "\n",
    "for i in xrange(24):\n",
    "    list_of_models[i].fit(train[i+1].reshape(-1,1), train[168])"
   ]
  },
  {
   "cell_type": "markdown",
   "metadata": {},
   "source": [
    "### Error computation"
   ]
  },
  {
   "cell_type": "code",
   "execution_count": 9,
   "metadata": {
    "collapsed": false
   },
   "outputs": [],
   "source": [
    "def m_rse(y_pred, y_true):\n",
    "    return np.mean((y_pred / y_true -1) ** 2)\n",
    "\n",
    "linear_input_error = [0] * 24\n",
    "\n",
    "for i in xrange(24):\n",
    "    linear_input_error[i] = m_rse(list_of_models[i].predict(test[i + 1].reshape(-1, 1)), test[168])"
   ]
  },
  {
   "cell_type": "markdown",
   "metadata": {},
   "source": [
    "## STEP 8"
   ]
  },
  {
   "cell_type": "markdown",
   "metadata": {},
   "source": [
    "### Training linear models based on preceding rows"
   ]
  },
  {
   "cell_type": "code",
   "execution_count": 10,
   "metadata": {
    "collapsed": false
   },
   "outputs": [],
   "source": [
    "list_of_models_multiple_inputs = [LinearRegression() for x in xrange(24)]\n",
    "\n",
    "for i in xrange(24):\n",
    "    current_range = range(1, i+2)\n",
    "    list_of_models_multiple_inputs[i].fit(train[current_range].as_matrix().reshape(-1,i+1), train[168])"
   ]
  },
  {
   "cell_type": "markdown",
   "metadata": {},
   "source": [
    "## STEP 9"
   ]
  },
  {
   "cell_type": "markdown",
   "metadata": {},
   "source": [
    "### Error computation"
   ]
  },
  {
   "cell_type": "code",
   "execution_count": 11,
   "metadata": {
    "collapsed": false
   },
   "outputs": [],
   "source": [
    "multiple_input_error = [0] * 24\n",
    "\n",
    "for i in xrange(24):\n",
    "    current_range = range(1, i+2)\n",
    "    multiple_input_error[i] = m_rse(list_of_models_multiple_inputs[i].predict\n",
    "                                    (test[current_range].as_matrix().reshape(-1, i + 1)),\n",
    "                                    test[168])"
   ]
  },
  {
   "cell_type": "markdown",
   "metadata": {},
   "source": [
    "## STEP 10"
   ]
  },
  {
   "cell_type": "markdown",
   "metadata": {},
   "source": [
    " ### Plotting the mRSE values for n ∈ (1, 24) computed on the test dataset."
   ]
  },
  {
   "cell_type": "code",
   "execution_count": 12,
   "metadata": {
    "collapsed": false
   },
   "outputs": [
    {
     "data": {
      "image/png": "[encoded data removed]",
      "text/plain": [
       "<matplotlib.figure.Figure at 0x7f2a33020250>"
      ]
     },
     "metadata": {},
     "output_type": "display_data"
    }
   ],
   "source": [
    "plt.plot(range(1, 25), linear_input_error, label='Linear Regression', linestyle='solid', color='red', marker='o', markersize=4.0, linewidth=2.5)\n",
    "plt.plot(range(1, 25), multiple_input_error, label='Multiple-input Linear Regression', linestyle='dashed', marker='x', markersize=4.0, color='blue', linewidth=2.5)\n",
    "plt.legend()\n",
    "plt.xlabel('Reference time (n)', fontsize=12)\n",
    "plt.ylabel('mRSE', fontsize=12)\n",
    "\n",
    "fig_size = plt.rcParams[\"figure.figsize\"]\n",
    "plt.rcParams[\"figure.figsize\"] = (18,12)\n",
    "\n"
   ]
  }
 ],
 "metadata": {
  "kernelspec": {
   "display_name": "Python 2",
   "language": "python",
   "name": "python2"
  },
  "language_info": {
   "codemirror_mode": {
    "name": "ipython",
    "version": 2
   },
   "file_extension": ".py",
   "mimetype": "text/x-python",
   "name": "python",
   "nbconvert_exporter": "python",
   "pygments_lexer": "ipython2",
   "version": "2.7.6"
  }
 },
 "nbformat": 4,
 "nbformat_minor": 1
}
